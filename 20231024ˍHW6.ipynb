{
  "nbformat": 4,
  "nbformat_minor": 0,
  "metadata": {
    "colab": {
      "provenance": []
    },
    "kernelspec": {
      "name": "python3",
      "display_name": "Python 3"
    },
    "language_info": {
      "name": "python"
    }
  },
  "cells": [
    {
      "cell_type": "code",
      "execution_count": null,
      "metadata": {
        "colab": {
          "base_uri": "https://localhost:8080/"
        },
        "id": "xuevO41bss_s",
        "outputId": "8b6c3454-7624-4d30-ba78-312079f62813"
      },
      "outputs": [
        {
          "output_type": "stream",
          "name": "stdout",
          "text": [
            "身高(公分)180\n",
            "體重q\n",
            "輸入內容錯誤\n"
          ]
        }
      ],
      "source": [
        "def calculate(a,b):\n",
        "  result=b/((0.01*a)**2)\n",
        "  return result\n",
        "try:\n",
        "    a = int(input('身高(公分)'))\n",
        "    b = int(input('體重'))\n",
        "    c=calculate(a,b)\n",
        "    if c<18.5:\n",
        "      print(\"BMI=\",(c),)\n",
        "      print('體位:過輕')\n",
        "    elif 18.5<=c<24:\n",
        "      print(\"BMI=\",(c),)\n",
        "      print('體位:適中')\n",
        "    elif 24<=c<27:\n",
        "      print(\"BMI=\",(c),)\n",
        "      print('體位:過重')\n",
        "    else:\n",
        "      print(\"BMI=\",(c),)\n",
        "      print('體位:肥胖')\n",
        "except:\n",
        "    print('輸入內容錯誤')"
      ]
    },
    {
      "cell_type": "code",
      "source": [
        "level=int(input('耶誕樹層數'))\n",
        "r=level\n",
        "k=1\n",
        "if level<7:\n",
        "  print(\"輸入至少七層以上\")\n",
        "else:\n",
        "  for a in range(level):\n",
        "    print((' ')*(level-k)+('*')*(2*k-1))\n",
        "    r=r-1\n",
        "    k=k+1\n",
        "  for b in range(5):\n",
        "    print((' ')*(level-2)+('*')*3)"
      ],
      "metadata": {
        "colab": {
          "base_uri": "https://localhost:8080/"
        },
        "id": "ULKuoqBH5Fm5",
        "outputId": "6b27e697-339a-4477-de6a-5bf7682840f5"
      },
      "execution_count": null,
      "outputs": [
        {
          "output_type": "stream",
          "name": "stdout",
          "text": [
            "耶誕樹層數10\n",
            "         *\n",
            "        ***\n",
            "       *****\n",
            "      *******\n",
            "     *********\n",
            "    ***********\n",
            "   *************\n",
            "  ***************\n",
            " *****************\n",
            "*******************\n",
            "        ***\n",
            "        ***\n",
            "        ***\n",
            "        ***\n",
            "        ***\n"
          ]
        }
      ]
    }
  ]
}